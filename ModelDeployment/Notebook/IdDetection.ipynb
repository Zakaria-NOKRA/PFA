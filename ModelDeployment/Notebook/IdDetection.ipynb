{
 "cells": [
  {
   "cell_type": "code",
   "execution_count": 4,
   "id": "ebe08b07",
   "metadata": {},
   "outputs": [
    {
     "name": "stdout",
     "output_type": "stream",
     "text": [
      "Collecting ultralytics\n",
      "  Using cached ultralytics-8.0.151-py3-none-any.whl.metadata (28 kB)\n",
      "Collecting matplotlib>=3.2.2 (from ultralytics)\n",
      "  Using cached matplotlib-3.5.3-cp37-cp37m-win_amd64.whl.metadata (6.7 kB)\n",
      "INFO: pip is looking at multiple versions of ultralytics to determine which version is compatible with other requirements. This could take a while.\n",
      "Collecting ultralytics\n",
      "  Using cached ultralytics-8.0.150-py3-none-any.whl.metadata (28 kB)\n",
      "  Using cached ultralytics-8.0.149-py3-none-any.whl.metadata (28 kB)\n",
      "  Using cached ultralytics-8.0.148-py3-none-any.whl.metadata (28 kB)\n",
      "  Using cached ultralytics-8.0.147-py3-none-any.whl.metadata (28 kB)\n",
      "  Using cached ultralytics-8.0.146-py3-none-any.whl.metadata (28 kB)\n",
      "  Using cached ultralytics-8.0.145-py3-none-any.whl.metadata (28 kB)\n",
      "Requirement already satisfied: opencv-python>=4.6.0 in c:\\programdata\\anaconda3\\lib\\site-packages (from ultralytics) (4.9.0.80)\n",
      "Requirement already satisfied: pillow>=7.1.2 in c:\\users\\lenovo\\appdata\\roaming\\python\\python37\\site-packages (from ultralytics) (9.5.0)\n",
      "Collecting pyyaml>=5.3.1 (from ultralytics)\n",
      "  Using cached PyYAML-6.0.1-cp37-cp37m-win_amd64.whl.metadata (2.1 kB)\n",
      "Requirement already satisfied: requests>=2.23.0 in c:\\users\\lenovo\\appdata\\roaming\\python\\python37\\site-packages (from ultralytics) (2.31.0)\n",
      "Requirement already satisfied: scipy>=1.4.1 in c:\\users\\lenovo\\appdata\\roaming\\python\\python37\\site-packages (from ultralytics) (1.7.3)\n",
      "Collecting torch>=1.7.0 (from ultralytics)\n",
      "  Using cached torch-1.13.1-cp37-cp37m-win_amd64.whl.metadata (23 kB)\n",
      "Collecting torchvision>=0.8.1 (from ultralytics)\n",
      "  Using cached torchvision-0.14.1-cp37-cp37m-win_amd64.whl.metadata (11 kB)\n",
      "Collecting tqdm>=4.64.0 (from ultralytics)\n",
      "  Using cached tqdm-4.66.4-py3-none-any.whl.metadata (57 kB)\n",
      "Requirement already satisfied: pandas>=1.1.4 in c:\\users\\lenovo\\appdata\\roaming\\python\\python37\\site-packages (from ultralytics) (1.3.5)\n",
      "Collecting seaborn>=0.11.0 (from ultralytics)\n",
      "  Using cached seaborn-0.12.2-py3-none-any.whl.metadata (5.4 kB)\n",
      "Requirement already satisfied: psutil in c:\\users\\lenovo\\appdata\\roaming\\python\\python37\\site-packages (from ultralytics) (5.9.8)\n",
      "Requirement already satisfied: py-cpuinfo in c:\\programdata\\anaconda3\\lib\\site-packages (from ultralytics) (9.0.0)\n",
      "Requirement already satisfied: cycler>=0.10 in c:\\programdata\\anaconda3\\lib\\site-packages (from matplotlib>=3.2.2->ultralytics) (0.10.0)\n",
      "Collecting fonttools>=4.22.0 (from matplotlib>=3.2.2->ultralytics)\n",
      "  Using cached fonttools-4.38.0-py3-none-any.whl.metadata (138 kB)\n",
      "Requirement already satisfied: kiwisolver>=1.0.1 in c:\\programdata\\anaconda3\\lib\\site-packages (from matplotlib>=3.2.2->ultralytics) (1.1.0)\n",
      "Requirement already satisfied: numpy>=1.17 in c:\\users\\lenovo\\appdata\\roaming\\python\\python37\\site-packages (from matplotlib>=3.2.2->ultralytics) (1.21.6)\n",
      "Requirement already satisfied: packaging>=20.0 in c:\\users\\lenovo\\appdata\\roaming\\python\\python37\\site-packages (from matplotlib>=3.2.2->ultralytics) (23.2)\n",
      "Requirement already satisfied: pyparsing>=2.2.1 in c:\\programdata\\anaconda3\\lib\\site-packages (from matplotlib>=3.2.2->ultralytics) (2.4.0)\n",
      "Requirement already satisfied: python-dateutil>=2.7 in c:\\users\\lenovo\\appdata\\roaming\\python\\python37\\site-packages (from matplotlib>=3.2.2->ultralytics) (2.9.0.post0)\n",
      "Requirement already satisfied: pytz>=2017.3 in c:\\programdata\\anaconda3\\lib\\site-packages (from pandas>=1.1.4->ultralytics) (2019.1)\n",
      "Requirement already satisfied: charset-normalizer<4,>=2 in c:\\programdata\\anaconda3\\lib\\site-packages (from requests>=2.23.0->ultralytics) (3.3.2)\n",
      "Requirement already satisfied: idna<4,>=2.5 in c:\\programdata\\anaconda3\\lib\\site-packages (from requests>=2.23.0->ultralytics) (2.8)\n",
      "Requirement already satisfied: urllib3<3,>=1.21.1 in c:\\users\\lenovo\\appdata\\roaming\\python\\python37\\site-packages (from requests>=2.23.0->ultralytics) (1.25.11)\n",
      "Requirement already satisfied: certifi>=2017.4.17 in c:\\users\\lenovo\\appdata\\roaming\\python\\python37\\site-packages (from requests>=2.23.0->ultralytics) (2023.11.17)\n",
      "Requirement already satisfied: typing_extensions in c:\\programdata\\anaconda3\\lib\\site-packages (from seaborn>=0.11.0->ultralytics) (4.7.1)\n",
      "Requirement already satisfied: colorama in c:\\programdata\\anaconda3\\lib\\site-packages (from tqdm>=4.64.0->ultralytics) (0.4.1)\n",
      "Requirement already satisfied: six in c:\\programdata\\anaconda3\\lib\\site-packages (from cycler>=0.10->matplotlib>=3.2.2->ultralytics) (1.12.0)\n",
      "Requirement already satisfied: setuptools in c:\\programdata\\anaconda3\\lib\\site-packages (from kiwisolver>=1.0.1->matplotlib>=3.2.2->ultralytics) (68.0.0)\n",
      "Using cached ultralytics-8.0.145-py3-none-any.whl (605 kB)\n",
      "Using cached matplotlib-3.5.3-cp37-cp37m-win_amd64.whl (7.2 MB)\n",
      "Using cached PyYAML-6.0.1-cp37-cp37m-win_amd64.whl (153 kB)\n",
      "Using cached seaborn-0.12.2-py3-none-any.whl (293 kB)\n",
      "Using cached torch-1.13.1-cp37-cp37m-win_amd64.whl (162.6 MB)\n",
      "Using cached torchvision-0.14.1-cp37-cp37m-win_amd64.whl (1.1 MB)\n",
      "Using cached tqdm-4.66.4-py3-none-any.whl (78 kB)\n",
      "Using cached fonttools-4.38.0-py3-none-any.whl (965 kB)\n",
      "Installing collected packages: tqdm, torch, pyyaml, fonttools, torchvision, matplotlib, seaborn, ultralytics\n",
      "Successfully installed fonttools-4.38.0 matplotlib-3.5.3 pyyaml-6.0.1 seaborn-0.12.2 torch-1.13.1 torchvision-0.14.1 tqdm-4.66.4 ultralytics-8.0.145\n"
     ]
    },
    {
     "name": "stderr",
     "output_type": "stream",
     "text": [
      "WARNING: Ignoring invalid distribution - (c:\\programdata\\anaconda3\\lib\\site-packages)\n",
      "WARNING: Ignoring invalid distribution -andas (c:\\programdata\\anaconda3\\lib\\site-packages)\n",
      "WARNING: Ignoring invalid distribution -arkupsafe (c:\\programdata\\anaconda3\\lib\\site-packages)\n",
      "WARNING: Ignoring invalid distribution -equests (c:\\programdata\\anaconda3\\lib\\site-packages)\n",
      "WARNING: Ignoring invalid distribution -ip (c:\\programdata\\anaconda3\\lib\\site-packages)\n",
      "WARNING: Ignoring invalid distribution -mportlib-metadata (c:\\programdata\\anaconda3\\lib\\site-packages)\n",
      "WARNING: Ignoring invalid distribution -qdm (c:\\programdata\\anaconda3\\lib\\site-packages)\n",
      "WARNING: Ignoring invalid distribution -rllib3 (c:\\programdata\\anaconda3\\lib\\site-packages)\n",
      "WARNING: Ignoring invalid distribution -ywavelets (c:\\programdata\\anaconda3\\lib\\site-packages)\n",
      "WARNING: Ignoring invalid distribution - (c:\\programdata\\anaconda3\\lib\\site-packages)\n",
      "WARNING: Ignoring invalid distribution -andas (c:\\programdata\\anaconda3\\lib\\site-packages)\n",
      "WARNING: Ignoring invalid distribution -arkupsafe (c:\\programdata\\anaconda3\\lib\\site-packages)\n",
      "WARNING: Ignoring invalid distribution -equests (c:\\programdata\\anaconda3\\lib\\site-packages)\n",
      "WARNING: Ignoring invalid distribution -ip (c:\\programdata\\anaconda3\\lib\\site-packages)\n",
      "WARNING: Ignoring invalid distribution -mportlib-metadata (c:\\programdata\\anaconda3\\lib\\site-packages)\n",
      "WARNING: Ignoring invalid distribution -qdm (c:\\programdata\\anaconda3\\lib\\site-packages)\n",
      "WARNING: Ignoring invalid distribution -rllib3 (c:\\programdata\\anaconda3\\lib\\site-packages)\n",
      "WARNING: Ignoring invalid distribution -ywavelets (c:\\programdata\\anaconda3\\lib\\site-packages)\n",
      "  WARNING: The script tqdm.exe is installed in 'C:\\Users\\lenovo\\AppData\\Roaming\\Python\\Python37\\Scripts' which is not on PATH.\n",
      "  Consider adding this directory to PATH or, if you prefer to suppress this warning, use --no-warn-script-location.\n",
      "  WARNING: The scripts convert-caffe2-to-onnx.exe, convert-onnx-to-caffe2.exe and torchrun.exe are installed in 'C:\\Users\\lenovo\\AppData\\Roaming\\Python\\Python37\\Scripts' which is not on PATH.\n",
      "  Consider adding this directory to PATH or, if you prefer to suppress this warning, use --no-warn-script-location.\n",
      "  WARNING: The scripts fonttools.exe, pyftmerge.exe, pyftsubset.exe and ttx.exe are installed in 'C:\\Users\\lenovo\\AppData\\Roaming\\Python\\Python37\\Scripts' which is not on PATH.\n",
      "  Consider adding this directory to PATH or, if you prefer to suppress this warning, use --no-warn-script-location.\n",
      "  WARNING: The scripts ultralytics.exe and yolo.exe are installed in 'C:\\Users\\lenovo\\AppData\\Roaming\\Python\\Python37\\Scripts' which is not on PATH.\n",
      "  Consider adding this directory to PATH or, if you prefer to suppress this warning, use --no-warn-script-location.\n"
     ]
    }
   ],
   "source": [
    "!pip install ultralytics --user"
   ]
  },
  {
   "cell_type": "code",
   "execution_count": 2,
   "id": "9f144de6",
   "metadata": {},
   "outputs": [
    {
     "ename": "ModuleNotFoundError",
     "evalue": "No module named 'ultralytics'",
     "output_type": "error",
     "traceback": [
      "\u001b[1;31m---------------------------------------------------------------------------\u001b[0m",
      "\u001b[1;31mModuleNotFoundError\u001b[0m                       Traceback (most recent call last)",
      "\u001b[1;32m<ipython-input-2-8a9fac6d55b9>\u001b[0m in \u001b[0;36m<module>\u001b[1;34m\u001b[0m\n\u001b[1;32m----> 1\u001b[1;33m \u001b[1;32mimport\u001b[0m \u001b[0multralytics\u001b[0m\u001b[1;33m\u001b[0m\u001b[1;33m\u001b[0m\u001b[0m\n\u001b[0m\u001b[0;32m      2\u001b[0m \u001b[1;32mfrom\u001b[0m \u001b[0multralytics\u001b[0m \u001b[1;32mimport\u001b[0m \u001b[0mYOLO\u001b[0m\u001b[1;33m\u001b[0m\u001b[1;33m\u001b[0m\u001b[0m\n",
      "\u001b[1;31mModuleNotFoundError\u001b[0m: No module named 'ultralytics'"
     ]
    }
   ],
   "source": [
    "import ultralytics\n",
    "from ultralytics import YOLO"
   ]
  },
  {
   "cell_type": "code",
   "execution_count": null,
   "id": "8c8f81f2",
   "metadata": {},
   "outputs": [],
   "source": []
  }
 ],
 "metadata": {
  "kernelspec": {
   "display_name": "Python 3 (ipykernel)",
   "language": "python",
   "name": "python3"
  },
  "language_info": {
   "codemirror_mode": {
    "name": "ipython",
    "version": 3
   },
   "file_extension": ".py",
   "mimetype": "text/x-python",
   "name": "python",
   "nbconvert_exporter": "python",
   "pygments_lexer": "ipython3",
   "version": "3.7.3"
  }
 },
 "nbformat": 4,
 "nbformat_minor": 5
}
